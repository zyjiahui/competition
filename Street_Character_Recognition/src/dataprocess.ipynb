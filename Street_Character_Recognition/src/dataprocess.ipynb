{
 "cells": [
  {
   "cell_type": "code",
   "execution_count": 11,
   "metadata": {},
   "outputs": [],
   "source": [
    "import os,sys,glob,shutil,json\n",
    "import cv2\n",
    "from PIL import Image\n",
    "import numpy as np\n",
    "import torch\n",
    "from torch.utils.data.dataset import Dataset\n",
    "import torchvision.transforms as transforms"
   ]
  },
  {
   "cell_type": "code",
   "execution_count": 12,
   "metadata": {},
   "outputs": [],
   "source": [
    "# 自定义数据集 Dataset：对数据集的封装，提供索引方式的对数据样本进行读取\n",
    "class SVHNDataset(Dataset):  \n",
    "    # 初始化\n",
    "    def __init__(self,img_path,img_label,transform=None):  # 参数：（图像，图像的标签，可选参数：图像的预处理）\n",
    "        self.img_path = img_path\n",
    "        self.img_label = img_label\n",
    "        if transform is not None:\n",
    "            self.transform = transform\n",
    "        else:\n",
    "            self.transform = None\n",
    "    # 获取特定索引的数据\n",
    "    def __getitem__(self,index):\n",
    "        img = Image.open(self.img_path[index]).convert('RGB')  # 将索引为index的图像转化为RGB格式的数据 \n",
    "\n",
    "        if self.transform is not None:  # 如果需要对数据进行预处理\n",
    "            img = self.transform(img)\n",
    "\n",
    "        lbl = np.array(self.img_label[index],dtype=np.int32)  # 将标签数据加载为一个整数数组\n",
    "        # lbl = list(lbl)  如果只是这样写，不会填充\n",
    "        lbl = list(lbl) + (6-len(lbl)) * [10]  # 扩充这个数组  为了统一运算都变成定长的，不够6个的补10\n",
    "        \n",
    "        return img,torch.from_numpy(np.array(lbl[:6]))  # 返回的是索引为index的图像和标签\n",
    "\n",
    "    # 数据集的长度\n",
    "    def __len__(self):\n",
    "        return len(self.img_path)\n",
    "\n"
   ]
  },
  {
   "cell_type": "code",
   "execution_count": 18,
   "metadata": {},
   "outputs": [],
   "source": [
    "train_path = glob.glob('../data/mchar_train/*.png')  # mchar_train文件中的所有图片\n",
    "train_path.sort()  # 按字母顺序排列\n",
    "train_json = json.load(open('../data/train.json'))  # 载入json文件\n",
    "train_label = [train_json[x]['label'] for x in train_json]  # 在标签的json文件中，将标签label的内容提取出来，存储为列表list[]\n",
    "\n",
    "train_data = SVHNDataset(train_path,train_label,\n",
    "                    transforms.Compose([\n",
    "                        # 缩放到固定尺寸\n",
    "                        transforms.Resize((64,128)),\n",
    "                        # 随机颜色变换\n",
    "                        transforms.ColorJitter(0.2,0.2,0.2),\n",
    "                        # 加入随机旋转\n",
    "                        transforms.RandomRotation(5),\n",
    "                        # 将图片转换为tensor格式\n",
    "                        transforms.ToTensor()\n",
    "                        # 对图像像素进行归一化\n",
    "                    ]))"
   ]
  },
  {
   "cell_type": "code",
   "execution_count": 19,
   "metadata": {},
   "outputs": [
    {
     "data": {
      "text/plain": [
       "(tensor([[[0.0000, 0.0000, 0.0000,  ..., 0.5569, 0.0000, 0.0000],\n",
       "          [0.0000, 0.0000, 0.0000,  ..., 0.5569, 0.0000, 0.0000],\n",
       "          [0.0000, 0.0000, 0.0000,  ..., 0.5569, 0.0000, 0.0000],\n",
       "          ...,\n",
       "          [0.0000, 0.0000, 0.5608,  ..., 0.0000, 0.0000, 0.0000],\n",
       "          [0.0000, 0.0000, 0.5608,  ..., 0.0000, 0.0000, 0.0000],\n",
       "          [0.0000, 0.0000, 0.5608,  ..., 0.0000, 0.0000, 0.0000]],\n",
       " \n",
       "         [[0.0000, 0.0000, 0.0000,  ..., 0.5490, 0.0000, 0.0000],\n",
       "          [0.0000, 0.0000, 0.0000,  ..., 0.5490, 0.0000, 0.0000],\n",
       "          [0.0000, 0.0000, 0.0000,  ..., 0.5490, 0.0000, 0.0000],\n",
       "          ...,\n",
       "          [0.0000, 0.0000, 0.5569,  ..., 0.0000, 0.0000, 0.0000],\n",
       "          [0.0000, 0.0000, 0.5569,  ..., 0.0000, 0.0000, 0.0000],\n",
       "          [0.0000, 0.0000, 0.5569,  ..., 0.0000, 0.0000, 0.0000]],\n",
       " \n",
       "         [[0.0000, 0.0000, 0.0000,  ..., 0.5333, 0.0000, 0.0000],\n",
       "          [0.0000, 0.0000, 0.0000,  ..., 0.5333, 0.0000, 0.0000],\n",
       "          [0.0000, 0.0000, 0.0000,  ..., 0.5333, 0.0000, 0.0000],\n",
       "          ...,\n",
       "          [0.0000, 0.0000, 0.5373,  ..., 0.0000, 0.0000, 0.0000],\n",
       "          [0.0000, 0.0000, 0.5373,  ..., 0.0000, 0.0000, 0.0000],\n",
       "          [0.0000, 0.0000, 0.5373,  ..., 0.0000, 0.0000, 0.0000]]]),\n",
       " tensor([ 2,  2,  0,  6, 10, 10]))"
      ]
     },
     "execution_count": 19,
     "metadata": {},
     "output_type": "execute_result"
    }
   ],
   "source": [
    "data[29979]"
   ]
  },
  {
   "cell_type": "code",
   "execution_count": 15,
   "metadata": {},
   "outputs": [
    {
     "data": {
      "text/plain": [
       "tensor([[[0.0000, 0.0000, 0.0000,  ..., 0.5373, 0.0000, 0.0000],\n",
       "         [0.0000, 0.0000, 0.0000,  ..., 0.5294, 0.0000, 0.0000],\n",
       "         [0.0000, 0.0000, 0.0000,  ..., 0.5333, 0.0000, 0.0000],\n",
       "         ...,\n",
       "         [0.0000, 0.0000, 0.4902,  ..., 0.0000, 0.0000, 0.0000],\n",
       "         [0.0000, 0.0000, 0.4902,  ..., 0.0000, 0.0000, 0.0000],\n",
       "         [0.0000, 0.0000, 0.4902,  ..., 0.0000, 0.0000, 0.0000]],\n",
       "\n",
       "        [[0.0000, 0.0000, 0.0000,  ..., 0.5725, 0.0000, 0.0000],\n",
       "         [0.0000, 0.0000, 0.0000,  ..., 0.5725, 0.0000, 0.0000],\n",
       "         [0.0000, 0.0000, 0.0000,  ..., 0.5765, 0.0000, 0.0000],\n",
       "         ...,\n",
       "         [0.0000, 0.0000, 0.5333,  ..., 0.0000, 0.0000, 0.0000],\n",
       "         [0.0000, 0.0000, 0.5333,  ..., 0.0000, 0.0000, 0.0000],\n",
       "         [0.0000, 0.0000, 0.5333,  ..., 0.0000, 0.0000, 0.0000]],\n",
       "\n",
       "        [[0.0000, 0.0000, 0.0000,  ..., 0.4863, 0.0000, 0.0000],\n",
       "         [0.0000, 0.0000, 0.0000,  ..., 0.4902, 0.0000, 0.0000],\n",
       "         [0.0000, 0.0000, 0.0000,  ..., 0.4941, 0.0000, 0.0000],\n",
       "         ...,\n",
       "         [0.0000, 0.0000, 0.4667,  ..., 0.0000, 0.0000, 0.0000],\n",
       "         [0.0000, 0.0000, 0.4667,  ..., 0.0000, 0.0000, 0.0000],\n",
       "         [0.0000, 0.0000, 0.4667,  ..., 0.0000, 0.0000, 0.0000]]])"
      ]
     },
     "execution_count": 15,
     "metadata": {},
     "output_type": "execute_result"
    }
   ],
   "source": [
    "data[1][0]  #取出图像的tensor表示，三维的[[[...]]]"
   ]
  },
  {
   "cell_type": "code",
   "execution_count": 16,
   "metadata": {},
   "outputs": [
    {
     "data": {
      "text/plain": [
       "tensor([ 2,  3, 10, 10, 10, 10])"
      ]
     },
     "execution_count": 16,
     "metadata": {},
     "output_type": "execute_result"
    }
   ],
   "source": [
    "data[1][1]  # 取出该图像的标签，固定长度为6，不足的补10（一个特殊的符号，标识中不会含有的）"
   ]
  },
  {
   "cell_type": "code",
   "execution_count": 21,
   "metadata": {},
   "outputs": [],
   "source": [
    "val_path = glob.glob('../data/mchar_val/*.png')  # mchar_train文件中的所有图片\n",
    "val_path.sort()  # 按字母顺序排列\n",
    "val_json = json.load(open('../data/val.json'))  # 载入json文件\n",
    "val_label = [val_json[x]['label'] for x in val_json]  # 在标签的json文件中，将标签label的内容提取出来，存储为列表list[]\n",
    "\n",
    "val_data = SVHNDataset(val_path,val_label,\n",
    "                    transforms.Compose([\n",
    "                        # 缩放到固定尺寸\n",
    "                        transforms.Resize((64,128)),\n",
    "                        # 随机颜色变换\n",
    "                        transforms.ColorJitter(0.2,0.2,0.2),\n",
    "                        # 加入随机旋转\n",
    "                        transforms.RandomRotation(5),\n",
    "                        # 将图片转换为tensor格式\n",
    "                        transforms.ToTensor()\n",
    "                        # 对图像像素进行归一化\n",
    "                    ]))"
   ]
  },
  {
   "cell_type": "code",
   "execution_count": 23,
   "metadata": {},
   "outputs": [
    {
     "data": {
      "text/plain": [
       "(tensor([[[0.1412, 0.1647, 0.1725,  ..., 0.2667, 0.2667, 0.2745],\n",
       "          [0.1451, 0.1647, 0.1765,  ..., 0.2627, 0.2667, 0.2745],\n",
       "          [0.1804, 0.1765, 0.1686,  ..., 0.2471, 0.2549, 0.2667],\n",
       "          ...,\n",
       "          [0.2039, 0.1961, 0.1922,  ..., 0.1804, 0.1804, 0.1804],\n",
       "          [0.2039, 0.1961, 0.1922,  ..., 0.1804, 0.1804, 0.1804],\n",
       "          [0.2078, 0.1961, 0.1922,  ..., 0.1882, 0.1843, 0.1804]],\n",
       " \n",
       "         [[0.1647, 0.1922, 0.1882,  ..., 0.1804, 0.1882, 0.1922],\n",
       "          [0.1569, 0.1804, 0.1882,  ..., 0.1882, 0.1961, 0.1961],\n",
       "          [0.1843, 0.1843, 0.1725,  ..., 0.1804, 0.1882, 0.1961],\n",
       "          ...,\n",
       "          [0.1765, 0.1686, 0.1608,  ..., 0.1333, 0.1373, 0.1412],\n",
       "          [0.1765, 0.1686, 0.1608,  ..., 0.1333, 0.1373, 0.1373],\n",
       "          [0.1765, 0.1686, 0.1608,  ..., 0.1333, 0.1412, 0.1373]],\n",
       " \n",
       "         [[0.1294, 0.1569, 0.1647,  ..., 0.1216, 0.1255, 0.1294],\n",
       "          [0.1333, 0.1608, 0.1647,  ..., 0.1216, 0.1255, 0.1294],\n",
       "          [0.1647, 0.1608, 0.1529,  ..., 0.1137, 0.1216, 0.1255],\n",
       "          ...,\n",
       "          [0.1608, 0.1569, 0.1490,  ..., 0.1216, 0.1216, 0.1216],\n",
       "          [0.1608, 0.1569, 0.1490,  ..., 0.1216, 0.1216, 0.1216],\n",
       "          [0.1608, 0.1569, 0.1490,  ..., 0.1216, 0.1255, 0.1255]]]),\n",
       " tensor([ 6,  5, 10, 10, 10, 10]))"
      ]
     },
     "execution_count": 23,
     "metadata": {},
     "output_type": "execute_result"
    }
   ],
   "source": [
    "val_data[7]"
   ]
  },
  {
   "cell_type": "code",
   "execution_count": 17,
   "metadata": {},
   "outputs": [],
   "source": [
    "# 加入DataLoader的数据读取函数  DataLoader：对Dataset进行封装，提供批量读取的迭代读取\n",
    "train_loader = torch.utils.data.DataLoader(\n",
    "    SVHNDataset(train_path,train_label,\n",
    "                transforms.Compose([ # 数据扩增\n",
    "                    transforms.Resize((64, 128)),\n",
    "                    transforms.ColorJitter(0.3, 0.3, 0.2),\n",
    "                    transforms.RandomRotation(5),\n",
    "                    transforms.ToTensor(),\n",
    "                    transforms.Normalize([0.485, 0.456, 0.406], [0.229, 0.224, 0.225])\n",
    "                ])\n",
    "    ),\n",
    "    batch_size = 10, # 每批样本个数\n",
    "    shuffle = False, # 是否打乱顺序\n",
    "    num_workers = 10 # 读取的线程个数\n",
    ")\n",
    "\n",
    "# 加入dataloader后，数据data的格式为  torch.Size([10,3,64,128]),torch.Size([10,6])"
   ]
  }
 ],
 "metadata": {
  "kernelspec": {
   "display_name": "pytorch",
   "language": "python",
   "name": "python3"
  },
  "language_info": {
   "codemirror_mode": {
    "name": "ipython",
    "version": 3
   },
   "file_extension": ".py",
   "mimetype": "text/x-python",
   "name": "python",
   "nbconvert_exporter": "python",
   "pygments_lexer": "ipython3",
   "version": "3.9.15"
  }
 },
 "nbformat": 4,
 "nbformat_minor": 2
}
